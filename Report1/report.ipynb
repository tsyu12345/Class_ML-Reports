{
 "cells": [
  {
   "attachments": {},
   "cell_type": "markdown",
   "metadata": {},
   "source": [
    "## No1　Q1\n",
    "二つのデータ点の近さを測る定量的指標の一つとして距離がある。\\\\\n",
    "いま、次の三つのデータ点があるとする：\\\\\n",
    "　　* データ点１$(5, 2, 5, 8)$\n",
    "　　* データ点２$(7, 10, 1, 12)$\n",
    "　　* データ点３$(3, 2, 6, 3)$\n",
    "上の各データ点は４種類の計測値で与えられている（例えば「緯度、経度、水深、温度」のような感じ）。\\\\\n",
    "このデータ点同士の間の近さをユークリッド距離で計算し、互いの距離が近いペアの順番を答えよ。\\\\\n",
    "データが近いほど距離が小さいことに注意。"
   ]
  },
  {
   "cell_type": "code",
   "execution_count": 3,
   "metadata": {},
   "outputs": [
    {
     "name": "stdout",
     "output_type": "stream",
     "text": [
      "1.点1と点3 距離：5.477225575051661\n",
      "2.点1と点2 距離：10.0\n",
      "3.点2と点3 距離：13.638181696985855\n"
     ]
    }
   ],
   "source": [
    "import math\n",
    "import numpy as np\n",
    "\n",
    "def get_euclidean_distance(x1: np.ndarray, x2: np.ndarray) -> float:\n",
    "    return math.sqrt(np.sum((x1 - x2) ** 2))\n",
    "\n",
    "#それぞれのデータ点の距離を計算し、リストに格納する\n",
    "result: list[list[str, float]] = []\n",
    "x1 = np.array([5,2,5,8])\n",
    "x2 = np.array([7,10,1,12])\n",
    "x3 = np.array([3,2,6,3])\n",
    "\n",
    "result.append([\"点1と点2\", get_euclidean_distance(x1, x2)])\n",
    "result.append([\"点1と点3\", get_euclidean_distance(x1, x3)])\n",
    "result.append([\"点2と点3\", get_euclidean_distance(x2, x3)])\n",
    "\n",
    "#距離を昇順にソートする\n",
    "result.sort(key=lambda x: x[1])\n",
    "for i,r in enumerate(result):\n",
    "    print(f\"{i+1}.{r[0]} 距離：{r[1]}\")\n",
    "\n",
    "\n"
   ]
  }
 ],
 "metadata": {
  "kernelspec": {
   "display_name": ".venv",
   "language": "python",
   "name": "python3"
  },
  "language_info": {
   "codemirror_mode": {
    "name": "ipython",
    "version": 3
   },
   "file_extension": ".py",
   "mimetype": "text/x-python",
   "name": "python",
   "nbconvert_exporter": "python",
   "pygments_lexer": "ipython3",
   "version": "3.10.5"
  },
  "orig_nbformat": 4
 },
 "nbformat": 4,
 "nbformat_minor": 2
}
